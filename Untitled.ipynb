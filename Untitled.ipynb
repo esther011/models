{
 "cells": [
  {
   "cell_type": "code",
   "execution_count": 1,
   "id": "b758c51a",
   "metadata": {},
   "outputs": [
    {
     "ename": "SyntaxError",
     "evalue": "invalid syntax (Temp/ipykernel_21320/80908525.py, line 2)",
     "output_type": "error",
     "traceback": [
      "\u001b[1;36m  File \u001b[1;32m\"C:\\Users\\esthe\\AppData\\Local\\Temp/ipykernel_21320/80908525.py\"\u001b[1;36m, line \u001b[1;32m2\u001b[0m\n\u001b[1;33m    docker build -f research/object_detection/dockerfiles/tf2/Dockerfile -t od .\u001b[0m\n\u001b[1;37m           ^\u001b[0m\n\u001b[1;31mSyntaxError\u001b[0m\u001b[1;31m:\u001b[0m invalid syntax\n"
     ]
    }
   ],
   "source": [
    "# From the root of the git repository\n",
    "docker build -f research/object_detection/dockerfiles/tf2/Dockerfile -t od .\n",
    "docker run -it od\n"
   ]
  },
  {
   "cell_type": "code",
   "execution_count": null,
   "id": "ceb8f954",
   "metadata": {},
   "outputs": [],
   "source": []
  }
 ],
 "metadata": {
  "kernelspec": {
   "display_name": "Python 3 (ipykernel)",
   "language": "python",
   "name": "python3"
  },
  "language_info": {
   "codemirror_mode": {
    "name": "ipython",
    "version": 3
   },
   "file_extension": ".py",
   "mimetype": "text/x-python",
   "name": "python",
   "nbconvert_exporter": "python",
   "pygments_lexer": "ipython3",
   "version": "3.9.7"
  }
 },
 "nbformat": 4,
 "nbformat_minor": 5
}
